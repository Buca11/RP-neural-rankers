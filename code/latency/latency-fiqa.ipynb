{
 "cells": [
  {
   "cell_type": "code",
   "execution_count": 1,
   "metadata": {},
   "outputs": [],
   "source": [
    "from pathlib import Path\n",
    "from fast_forward.encoder import TCTColBERTQueryEncoder\n",
    "from fast_forward.util.pyterrier import FFScore,FFInterpolate\n",
    "import torch\n",
    "import pyterrier as pt\n",
    "import pandas as pd\n",
    "from pyterrier.measures import RR, nDCG, MAP, AP, R\n",
    "from fast_forward import OnDiskIndex, Mode, Ranking\n"
   ]
  },
  {
   "cell_type": "code",
   "execution_count": 2,
   "metadata": {},
   "outputs": [
    {
     "name": "stderr",
     "output_type": "stream",
     "text": [
      "PyTerrier 0.10.0 has loaded Terrier 5.9 (built by craigm on 2024-05-02 17:40) and terrier-helper 0.0.8\n",
      "\n",
      "No etc/terrier.properties, using terrier.default.properties for bootstrap configuration.\n"
     ]
    }
   ],
   "source": [
    "if not pt.started():\n",
    "    pt.init()"
   ]
  },
  {
   "cell_type": "code",
   "execution_count": 3,
   "metadata": {},
   "outputs": [],
   "source": [
    "index = pt.IndexFactory.of(str(Path.cwd()), memory=True)"
   ]
  },
  {
   "cell_type": "code",
   "execution_count": 4,
   "metadata": {},
   "outputs": [
    {
     "name": "stderr",
     "output_type": "stream",
     "text": [
      "100%|██████████| 57638/57638 [00:00<00:00, 1315903.95it/s]\n"
     ]
    }
   ],
   "source": [
    "\n",
    "bm25 = pt.BatchRetrieve(index, wmodel=\"BM25\")\n",
    "testset = pt.get_dataset('irds:beir/fiqa/test')\n",
    "q_encoder = TCTColBERTQueryEncoder(\"castorini/tct_colbert-msmarco\")\n",
    "ff_index = OnDiskIndex.load(\n",
    "    Path(\"ffindex_fiqa_tct.h5\"),  query_encoder=q_encoder, mode=Mode.MAXP\n",
    ")\n",
    "ff_index = ff_index.to_memory()"
   ]
  },
  {
   "cell_type": "code",
   "execution_count": 5,
   "metadata": {},
   "outputs": [],
   "source": [
    "\n",
    "ff_score = FFScore(ff_index)\n",
    "ff_int = FFInterpolate(alpha=0.1)"
   ]
  },
  {
   "cell_type": "code",
   "execution_count": 7,
   "metadata": {},
   "outputs": [
    {
     "name": "stdout",
     "output_type": "stream",
     "text": [
      "       qid                                              query\n",
      "439   5592    are hard money loans meant only for real estate\n",
      "454    879  capital improvement and depreciation in restau...\n",
      "535   7141  do investors go long option contracts when the...\n",
      "320   7467             stocks are traded on secondary markets\n",
      "111   3480      why is okpay not allowed in the united states\n",
      "..     ...                                                ...\n",
      "185    988                   where should i invest my savings\n",
      "64    5150  what credit card information are offline us me...\n",
      "475  10710  probablity of touching in the money vs expirin...\n",
      "353   3179  calculation timing and taxes related to profit...\n",
      "47    3405  non resident aliens question of standard vs it...\n",
      "\n",
      "[100 rows x 2 columns]\n"
     ]
    }
   ],
   "source": [
    "topics = testset.get_topics()\n",
    "sample = topics.sample(100)\n",
    "print(sample)\n",
    "#sample.to_csv('queries.csv')"
   ]
  },
  {
   "cell_type": "code",
   "execution_count": 8,
   "metadata": {},
   "outputs": [],
   "source": [
    "candidates = (bm25 % 100)(sample)\n",
    "pt.io.write_results(candidates,'trec-run-bm25-fiqa-latency.txt')"
   ]
  },
  {
   "cell_type": "code",
   "execution_count": 10,
   "metadata": {},
   "outputs": [
    {
     "name": "stdout",
     "output_type": "stream",
     "text": [
      "1.43 s ± 73.7 ms per loop (mean ± std. dev. of 7 runs, 100 loops each)\n"
     ]
    }
   ],
   "source": [
    "%%timeit -r 7 -n 100\n",
    "candidates = (bm25 % 100)(sample)"
   ]
  },
  {
   "cell_type": "code",
   "execution_count": 11,
   "metadata": {},
   "outputs": [],
   "source": [
    "re_ranked = ff_score(candidates)"
   ]
  },
  {
   "cell_type": "code",
   "execution_count": 12,
   "metadata": {},
   "outputs": [
    {
     "name": "stdout",
     "output_type": "stream",
     "text": [
      "4.09 s ± 138 ms per loop (mean ± std. dev. of 7 runs, 100 loops each)\n"
     ]
    }
   ],
   "source": [
    "%%timeit -r 7 -n 100\n",
    "re_ranked = ff_score(candidates)"
   ]
  },
  {
   "cell_type": "code",
   "execution_count": 13,
   "metadata": {},
   "outputs": [],
   "source": [
    "final = ff_int(re_ranked)"
   ]
  },
  {
   "cell_type": "code",
   "execution_count": 14,
   "metadata": {},
   "outputs": [
    {
     "name": "stdout",
     "output_type": "stream",
     "text": [
      "1.22 ms ± 109 µs per loop (mean ± std. dev. of 7 runs, 100 loops each)\n"
     ]
    }
   ],
   "source": [
    "%%timeit -r 7 -n 100\n",
    "final = ff_int(re_ranked)"
   ]
  }
 ],
 "metadata": {
  "kernelspec": {
   "display_name": ".venv",
   "language": "python",
   "name": "python3"
  },
  "language_info": {
   "codemirror_mode": {
    "name": "ipython",
    "version": 3
   },
   "file_extension": ".py",
   "mimetype": "text/x-python",
   "name": "python",
   "nbconvert_exporter": "python",
   "pygments_lexer": "ipython3",
   "version": "3.10.12"
  }
 },
 "nbformat": 4,
 "nbformat_minor": 2
}
